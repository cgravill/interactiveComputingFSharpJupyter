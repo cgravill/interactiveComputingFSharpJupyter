{
 "cells": [
  {
   "cell_type": "markdown",
   "metadata": {},
   "source": [
    "# F# for Jupyter Notebooks\n",
    "<img style=\"float: right;\" src=\"https://github.com/fsharp/fsfoundation/raw/gh-pages/img/logo/fsharp256.png\">\n",
    "\n",
    "F# is an open-source and cross-platform language which excels at succinct, correct and maintainable code. F# is used for [data scripting](https://fsharpforfunandprofit.com/posts/low-risk-ways-to-use-fsharp-at-work-2/), [data science](http://fslab.org), [web programming](http://fsharp.org/guides/web/) and component development. It interoperates with a wide range of software libraries and tools and all .NET and C# libraries can be used directly from F#.  A key characteristic of F# is that you can use it from small-scale scripting and development to large-scale software delivery. \n",
    "\n",
    "F# is well suited for literate programming using Azure and Jupyter notebooks because declarations are ordered in a script-like way. This notebook assumes you are familiar with some programming already. However, the examples are kept simple, so if you are just learning F#, that's fine too! There are lots of excellent [F# learning resources](http://fsharp.org/learn.html) available online. The [F# Cheetsheet](https://dungpa.github.io/fsharp-cheatsheet/) is a quick guide. \n",
    "\n",
    "F# is supported by the [F# Software Foundation](http://fsharp.org) and a worldwide community of contributors. Microsoft and other companies develop professional tooling for F#. The [F# Language Reference](https://docs.microsoft.com/en-us/dotnet/articles/fsharp/) is a reference for the F# language, and the [F# Guide](https://docs.microsoft.com/en-us/dotnet/articles/fsharp/) covers general topics.  [F# on Azure](https://docs.microsoft.com/en-us/dotnet/articles/fsharp/using-fsharp-on-azure/) is a technical guide for using F# in conjunction with a range of Azure services.\n",
    "\n",
    "To learn more about how to use Jupyter notebooks, see [the Jupyter documentation](http://jupyter-notebook.readthedocs.io/) and the [Jupyter keyboard shortcuts](https://www.cheatography.com/weidadeyue/cheat-sheets/jupyter-notebook/). You can install the F# and Jupyter tooling locally using [IfSharp](https://github.com/fsprojects/IfSharp).\n",
    "\n",
    "Please share your notebooks with your friends and colleagues! The [#fsharp](https://twitter.com/search?f=tweets&vertical=default&q=%23fsharp) tag on twitter can be used to share with the community.\n",
    "\n",
    "\n",
    "# Introducing F# #\n",
    "\n",
    "Let's start with some simple arithmetic and data:"
   ]
  },
  {
   "cell_type": "code",
   "execution_count": 1,
   "metadata": {},
   "outputs": [
    {
     "data": {
      "text/plain": [
       "42"
      ]
     },
     "execution_count": 1,
     "metadata": {},
     "output_type": "execute_result"
    }
   ],
   "source": [
    "(12/4 + 5 + 7) * 4 - 18"
   ]
  },
  {
   "cell_type": "markdown",
   "metadata": {},
   "source": [
    "Here is a list of  numbers:"
   ]
  },
  {
   "cell_type": "code",
   "execution_count": 4,
   "metadata": {},
   "outputs": [
    {
     "data": {
      "text/plain": [
       "[0; 1; 2; 3; 4; 5; 6; 7; 8; 9; 10; 11; 12; 13; 14; 15]"
      ]
     },
     "execution_count": 4,
     "metadata": {},
     "output_type": "execute_result"
    }
   ],
   "source": [
    "let sampleNumbers = [ 0 .. 15 ]\n",
    "\n",
    "sampleNumbers"
   ]
  },
  {
   "cell_type": "markdown",
   "metadata": {},
   "source": [
    "Next you  use ``let`` to define a function that accepts and returns an integer. Parentheses are optional for function arguments. When needed, annotate the type of a parameter name using ``(argument: type)``.  Documentation comments are added using ``///``."
   ]
  },
  {
   "cell_type": "code",
   "execution_count": 3,
   "metadata": {},
   "outputs": [
    {
     "data": {
      "text/plain": [
       "190"
      ]
     },
     "execution_count": 3,
     "metadata": {},
     "output_type": "execute_result"
    }
   ],
   "source": [
    "/// A function to compute a sample curve\n",
    "let sampleFunction (x:int) = \n",
    "    2*x*x - 5*x + 3\n",
    "\n",
    "sampleFunction (7 + 4)"
   ]
  },
  {
   "cell_type": "markdown",
   "metadata": {},
   "source": [
    "To convert between numeric typs ``int``, ``double``, ``int64``, ``bigint`` and so on, use conversion functions of the same name"
   ]
  },
  {
   "cell_type": "code",
   "execution_count": 4,
   "metadata": {},
   "outputs": [
    {
     "data": {
      "text/plain": [
       "28"
      ]
     },
     "execution_count": 4,
     "metadata": {},
     "output_type": "execute_result"
    }
   ],
   "source": [
    "sampleFunction (int 3.14 + int 2.79)"
   ]
  },
  {
   "cell_type": "markdown",
   "metadata": {},
   "source": [
    "F# uses indentation aware syntax (like Python). You can find out more about this in the topic [F# syntax: indentation and verbosity](https://fsharpforfunandprofit.com/posts/fsharp-syntax/).\n",
    "\n",
    "Conditionals are expressed using ``if ... then ... else`` and booleans are expressed using ``true``, ``false``, ``&&``, ``||`` and ``not``:"
   ]
  },
  {
   "cell_type": "code",
   "execution_count": 5,
   "metadata": {},
   "outputs": [
    {
     "data": {
      "text/plain": [
       "10"
      ]
     },
     "execution_count": 5,
     "metadata": {},
     "output_type": "execute_result"
    }
   ],
   "source": [
    "if 98.0 < 100.0 then 10 else 20"
   ]
  },
  {
   "cell_type": "code",
   "execution_count": 6,
   "metadata": {},
   "outputs": [
    {
     "data": {
      "text/plain": [
       "true"
      ]
     },
     "execution_count": 6,
     "metadata": {},
     "output_type": "execute_result"
    }
   ],
   "source": [
    "not false && (true || false)"
   ]
  },
  {
   "cell_type": "markdown",
   "metadata": {},
   "source": [
    "### Strings, Tuples, Lists and Arrays\n",
    "\n",
    "String data use quotes or triple-quotes:"
   ]
  },
  {
   "cell_type": "code",
   "execution_count": 7,
   "metadata": {},
   "outputs": [
    {
     "data": {
      "text/plain": [
       "\"Hello world\""
      ]
     },
     "execution_count": 7,
     "metadata": {},
     "output_type": "execute_result"
    }
   ],
   "source": [
    "let helloWorld = \"Hello\" + \" \" + \"world\"\n",
    "\n",
    "helloWorld"
   ]
  },
  {
   "cell_type": "markdown",
   "metadata": {},
   "source": [
    "A tuple combines multiple data items into one value.  Here is a tuple consisting of an integer, a string, and a double-precision floating point number"
   ]
  },
  {
   "cell_type": "code",
   "execution_count": 8,
   "metadata": {},
   "outputs": [
    {
     "data": {
      "text/plain": [
       "(1, \"fred\", 3.1415)"
      ]
     },
     "execution_count": 8,
     "metadata": {},
     "output_type": "execute_result"
    }
   ],
   "source": [
    "(1, \"fred\", 3.1415)"
   ]
  },
  {
   "cell_type": "markdown",
   "metadata": {},
   "source": [
    "Lists are linear sequences of values of the same type. Here is a list containing all the Fridays of the first half of 2017.  THis also shows you how to use some of the very extensive .NET libraries, all of which are available to F#.  You can find out more about the .NET libraries in online resources such as the [.NET Framework API Reference](https://docs.microsoft.com/en-us/dotnet/)."
   ]
  },
  {
   "cell_type": "code",
   "execution_count": 9,
   "metadata": {},
   "outputs": [
    {
     "data": {
      "text/plain": [
       "[\"01/05/2017\"; \"01/12/2017\"; \"01/19/2017\"; \"01/26/2017\"; \"02/02/2017\";\n",
       " \"02/09/2017\"; \"02/16/2017\"; \"02/23/2017\"; \"03/02/2017\"; \"03/09/2017\";\n",
       " \"03/16/2017\"; \"03/23/2017\"; \"03/30/2017\"; \"04/06/2017\"; \"04/13/2017\";\n",
       " \"04/20/2017\"; \"04/27/2017\"; \"05/04/2017\"; \"05/11/2017\"; \"05/18/2017\";\n",
       " \"05/25/2017\"; \"06/01/2017\"; \"06/08/2017\"; \"06/15/2017\"; \"06/22/2017\";\n",
       " \"06/29/2017\"]"
      ]
     },
     "execution_count": 9,
     "metadata": {},
     "output_type": "execute_result"
    }
   ],
   "source": [
    "open System\n",
    "\n",
    "let fridaysList = \n",
    "    [ for month in 1 .. 6 do\n",
    "        for day in 1 .. DateTime.DaysInMonth(2017, month) do \n",
    "          let date = DateTime(2017, month, day)\n",
    "          if date.DayOfWeek = DayOfWeek.Thursday then \n",
    "            yield date.ToShortDateString() ]\n",
    "              \n",
    "fridaysList              "
   ]
  },
  {
   "cell_type": "markdown",
   "metadata": {},
   "source": [
    "If you edit the previous bit of code yourself, you will notice that you get autocomplete assistance while editing. This gives you IDE-like editing inside your notebook. \n",
    "\n",
    "Arrays are similar to lists but are mutable and are stored as flat data rather than linked lists:"
   ]
  },
  {
   "cell_type": "code",
   "execution_count": 10,
   "metadata": {},
   "outputs": [
    {
     "data": {
      "text/plain": [
       "[|1; 2; 3; 4; 5; 6; 7; 8; 9; 10; 11; 12; 13; 14; 15; 16; 17; 18; 19; 20; 21; 22;\n",
       "  23; 24; 25; 26; 27; 28; 29; 30; 31; 32; 33; 34; 35; 36; 37; 38; 39; 40; 41; 42;\n",
       "  43; 44; 45; 46; 47; 48; 49; 50; 51; 52; 53; 54; 55; 56; 57; 58; 59; 60; 61; 62;\n",
       "  63; 64; 65; 66; 67; 68; 69; 70; 71; 72; 73; 74; 75; 76; 77; 78; 79; 80; 81; 82;\n",
       "  83; 84; 85; 86; 87; 88; 89; 90; 91; 92; 93; 94; 95; 96; 97; 98; 99; 100; ...|]"
      ]
     },
     "execution_count": 10,
     "metadata": {},
     "output_type": "execute_result"
    }
   ],
   "source": [
    "let lowNumbers = [| 1 .. 200 |]\n",
    "\n",
    "lowNumbers"
   ]
  },
  {
   "cell_type": "markdown",
   "metadata": {},
   "source": [
    "Lists, arrays and sequences can be processed using functions.  Use the pipeline operator ``|>`` and a function to process data using List.map:"
   ]
  },
  {
   "cell_type": "code",
   "execution_count": 11,
   "metadata": {},
   "outputs": [
    {
     "data": {
      "text/plain": [
       "[0; 1; 4; 9; 16; 25; 36; 49; 64; 81; 100; 121; 144; 169; 196; 225]"
      ]
     },
     "execution_count": 11,
     "metadata": {},
     "output_type": "execute_result"
    }
   ],
   "source": [
    "sampleNumbers\n",
    "|> List.map (fun x -> x*x)"
   ]
  },
  {
   "cell_type": "markdown",
   "metadata": {},
   "source": [
    "Pipelines can be chained together.  The following pipeline computes the sum of a selection of square numbers:"
   ]
  },
  {
   "cell_type": "code",
   "execution_count": 12,
   "metadata": {},
   "outputs": [
    {
     "data": {
      "text/plain": [
       "79299"
      ]
     },
     "execution_count": 12,
     "metadata": {},
     "output_type": "execute_result"
    }
   ],
   "source": [
    "let sumOfSelectedSquares = \n",
    "    sampleNumbers\n",
    "    |> List.map (fun x -> x*x) \n",
    "    |> List.filter (fun x -> x % 3 = 0)\n",
    "    |> List.sumBy (fun x -> x * x)\n",
    "    \n",
    "sumOfSelectedSquares    "
   ]
  },
  {
   "cell_type": "markdown",
   "metadata": {},
   "source": [
    "Both lists and arrays can use slicing notation:"
   ]
  },
  {
   "cell_type": "code",
   "execution_count": 13,
   "metadata": {},
   "outputs": [
    {
     "data": {
      "text/plain": [
       "[|1; 2; 3; 4; 5; 6; 7; 8; 9; 10; 11; 12; 13; 14; 15; 16; 17; 18; 19; 20; 21; 22;\n",
       "  23; 24; 25; 26; 27; 28; 29; 30; 31; 32; 33; 34; 35; 36; 37; 38; 39; 40; 41; 42;\n",
       "  43; 44; 45; 46; 47; 48; 49; 50; 51|]"
      ]
     },
     "execution_count": 13,
     "metadata": {},
     "output_type": "execute_result"
    }
   ],
   "source": [
    "lowNumbers.[0 .. 50]"
   ]
  },
  {
   "cell_type": "markdown",
   "metadata": {},
   "source": [
    "### Sequences\n",
    "\n",
    "Sequences are computed on-demand and are specified using the same constructs as lists and arrays.  Here is an infinite sequence which is a random walk. Use ``yield!`` to return each element of a subsequence:"
   ]
  },
  {
   "cell_type": "code",
   "execution_count": 6,
   "metadata": {},
   "outputs": [
    {
     "data": {
      "text/plain": [
       "[5.0; 5.40241934; 4.910247954; 4.635341102; 4.571208697; 4.785246897;\n",
       " 5.106174935; 4.973229262; 5.227187615; 4.855121123; 5.149121176; 4.830399704;\n",
       " 4.888471149; 5.015949861; 4.909900412; 4.918772636; 5.01397177; 5.465055746;\n",
       " 4.979453234; 4.564436963]"
      ]
     },
     "execution_count": 6,
     "metadata": {},
     "output_type": "execute_result"
    }
   ],
   "source": [
    "let rnd = System.Random()\n",
    "\n",
    "let rec randomWalk x =\n",
    "    seq { yield x\n",
    "          yield! randomWalk (x + rnd.NextDouble() - 0.5) }\n",
    "\n",
    "let firstValuesOfRandomWalk = \n",
    "    randomWalk 5.0 \n",
    "    |> Seq.truncate 20\n",
    "    |> Seq.toList\n",
    "    \n",
    "firstValuesOfRandomWalk"
   ]
  },
  {
   "cell_type": "markdown",
   "metadata": {},
   "source": [
    "### Type Definitions\n",
    "\n",
    "F# is a typed language. Here you define a record type. You can learn more about F# type definitions in online resources such as [F# for Fun and Profit](https://fsharpforfunandprofit.com/posts/overview-of-types-in-fsharp/).\n",
    "\n",
    "The type definition uses an option value. Option values are any kind of value tagged with either 'Some' or 'None'.\n",
    "They are used extensively in F# code to represent the cases where many other languages would use null references."
   ]
  },
  {
   "cell_type": "code",
   "execution_count": 16,
   "metadata": {},
   "outputs": [
    {
     "data": {
      "text/plain": [
       "{Name = \"Alf\";\n",
       " Phone = \"(206) 555-0157\";\n",
       " Verified = false;\n",
       " ZipCode = Some \"90210\";}"
      ]
     },
     "execution_count": 16,
     "metadata": {},
     "output_type": "execute_result"
    }
   ],
   "source": [
    "type ContactCard = \n",
    "    { Name     : string\n",
    "      Phone    : string\n",
    "      Verified : bool\n",
    "      ZipCode : string option}            \n",
    "      \n",
    "let sampleCard = { Name = \"Alf\" ; Phone = \"(206) 555-0157\" ; Verified = false; ZipCode=Some \"90210\" }\n",
    "\n",
    "sampleCard"
   ]
  },
  {
   "cell_type": "code",
   "execution_count": 17,
   "metadata": {},
   "outputs": [
    {
     "data": {
      "text/plain": [
       "\"Alf Phone: (206) 555-0157 (unverified)\""
      ]
     },
     "execution_count": 17,
     "metadata": {},
     "output_type": "execute_result"
    }
   ],
   "source": [
    "let showCard (c: ContactCard) = \n",
    "    c.Name + \" Phone: \" + c.Phone + (if not c.Verified then \" (unverified)\" else \"\")\n",
    "    \n",
    "showCard sampleCard"
   ]
  },
  {
   "cell_type": "markdown",
   "metadata": {},
   "source": [
    "### UnitsOfMeasure\n",
    "\n",
    "Code can be annotated with units of measure when using F# arithmetic over numeric types"
   ]
  },
  {
   "cell_type": "code",
   "execution_count": 18,
   "metadata": {},
   "outputs": [
    {
     "data": {
      "text/plain": [
       "(1600.0, 500.0, 804672.0)"
      ]
     },
     "execution_count": 18,
     "metadata": {},
     "output_type": "execute_result"
    }
   ],
   "source": [
    "open Microsoft.FSharp.Data.UnitSystems.SI.UnitNames\n",
    "\n",
    "let raceLength = 1600.0<meter>\n",
    "\n",
    "[<Measure>]\n",
    "type mile =\n",
    "    /// Conversion factor mile to meter: meter is defined in SI.UnitNames\n",
    "    static member asMeter = 1609.344<meter/mile>\n",
    "\n",
    "/// Distance expressed using imperial units\n",
    "let distanceToWalk  = 500.0<mile>          \n",
    "\n",
    "// Same distanceusing metric system\n",
    "let distanceToWalkInMeters = distanceToWalk * mile.asMeter   \n",
    "\n",
    "(raceLength, distanceToWalk, distanceToWalkInMeters)"
   ]
  },
  {
   "cell_type": "markdown",
   "metadata": {},
   "source": [
    "### Parallel Programming\n",
    "\n",
    "You can use ``Array.Parallel.map`` and ``Async.Parallel`` and related functions to do parallel processing of collections:"
   ]
  },
  {
   "cell_type": "code",
   "execution_count": 7,
   "metadata": {},
   "outputs": [
    {
     "data": {
      "text/plain": [
       "[|1; 1; 1; 2; 3; 5; 8; 13; 21; 34; 55; 89; 144; 233; 377; 610; 987; 1597; 2584;\n",
       "  4181; 6765; 10946; 17711; 28657; 1; 1; 1; 2; 3; 5; 8; 13; 21; 34; 55; 89; 144;\n",
       "  233; 377; 610; 987; 1597; 2584; 4181; 6765; 10946; 17711; 28657; 1; 1; 1; 2; 3;\n",
       "  5; 8; 13; 21; 34; 55; 89; 144; 233; 377; 610; 987; 1597; 2584; 4181; 6765;\n",
       "  10946; 17711; 28657; 1; 1; 1; 2; 3; 5; 8; 13; 21; 34; 55; 89; 144; 233; 377;\n",
       "  610; 987; 1597; 2584; 4181; 6765; 10946; 17711; 28657; 1; 1; 1; 2; ...|]"
      ]
     },
     "execution_count": 7,
     "metadata": {},
     "output_type": "execute_result"
    }
   ],
   "source": [
    "let oneBigArray = [| 0 .. 100000 |]\n",
    "\n",
    "// Do some CPU intensive computation\n",
    "let rec computeSomeFunction x = \n",
    "    if x <= 2 then 1 \n",
    "    else computeSomeFunction (x - 1) + computeSomeFunction (x - 2)\n",
    "       \n",
    "/// Do a parallel map over a large input array\n",
    "let computeResults() = oneBigArray |> Array.Parallel.map (fun x -> computeSomeFunction (x % 24))\n",
    "\n",
    "computeResults()"
   ]
  },
  {
   "cell_type": "markdown",
   "metadata": {},
   "source": [
    "### Learning More\n",
    "\n",
    "A range of F# learning topics are available online at [The F# Software Foundation](http://fsharp.org/learn)"
   ]
  }
 ],
 "metadata": {
  "anaconda-cloud": {},
  "kernelspec": {
   "display_name": "F#",
   "language": "fsharp",
   "name": "ifsharp"
  },
  "language": "fsharp",
  "language_info": {
   "codemirror_mode": "",
   "file_extension": ".fs",
   "mimetype": "text/x-fsharp",
   "name": "fsharp",
   "nbconvert_exporter": "",
   "pygments_lexer": "",
   "version": "4.3.1.0"
  },
  "nbpresent": {
   "slides": {
    "09a16b12-0691-4580-9d91-25312b21b24d": {
     "id": "09a16b12-0691-4580-9d91-25312b21b24d",
     "prev": null,
     "regions": {
      "4e892448-127f-4afd-8117-a03bbf32575a": {
       "attrs": {
        "height": 0.6143916207717987,
        "width": 0.7999977189173325,
        "x": 0.1000000097925266,
        "y": 0.09999999668462171
       },
       "content": {
        "cell": "b2f547cf-c217-4f9d-8ed4-17c26d771aca",
        "part": "whole"
       },
       "id": "4e892448-127f-4afd-8117-a03bbf32575a"
      }
     }
    },
    "12694a15-5174-453e-9113-77250c085085": {
     "id": "12694a15-5174-453e-9113-77250c085085",
     "prev": "a3c7e8f5-e9e4-4b5f-86de-41c62b40326c",
     "regions": {
      "d5c2541b-2a6b-4b3c-b446-6590c77d378b": {
       "attrs": {
        "height": 0.8,
        "width": 0.8,
        "x": 0.1,
        "y": 0.1
       },
       "content": {
        "cell": "575cd23f-9194-41a7-a58b-2aa59de77830",
        "part": "whole"
       },
       "id": "d5c2541b-2a6b-4b3c-b446-6590c77d378b"
      }
     }
    },
    "a3c7e8f5-e9e4-4b5f-86de-41c62b40326c": {
     "id": "a3c7e8f5-e9e4-4b5f-86de-41c62b40326c",
     "prev": "a529b3ae-293e-40c2-a488-4f391110fc85",
     "regions": {
      "97f2373e-b0b6-4bb0-81a4-0d766f01a827": {
       "attrs": {
        "height": 0.8,
        "width": 0.8,
        "x": 0.1,
        "y": 0.1
       },
       "content": {
        "cell": "7342d5dc-eb68-40a3-b2ce-e3c421908af4",
        "part": "whole"
       },
       "id": "97f2373e-b0b6-4bb0-81a4-0d766f01a827"
      }
     }
    },
    "a529b3ae-293e-40c2-a488-4f391110fc85": {
     "id": "a529b3ae-293e-40c2-a488-4f391110fc85",
     "prev": "09a16b12-0691-4580-9d91-25312b21b24d",
     "regions": {
      "8c5d2501-fd31-4ab6-bb09-e8f88e9f52cd": {
       "attrs": {
        "height": 0.8,
        "width": 0.8,
        "x": 0.1,
        "y": 0.1
       },
       "content": {
        "cell": "69a0e6cc-f59f-44e7-b525-3d54c0d28102",
        "part": "whole"
       },
       "id": "8c5d2501-fd31-4ab6-bb09-e8f88e9f52cd"
      }
     }
    }
   },
   "themes": {}
  }
 },
 "nbformat": 4,
 "nbformat_minor": 1
}
