{
 "cells": [
  {
   "cell_type": "code",
   "execution_count": 1,
   "metadata": {
    "collapsed": true
   },
   "outputs": [],
   "source": [
    "#r \"netstandard\"\n",
    "#load \"Paket.fsx\""
   ]
  },
  {
   "cell_type": "code",
   "execution_count": 2,
   "metadata": {
    "collapsed": true
   },
   "outputs": [],
   "source": [
    "Paket.Version[(\"TorchSharp\", \"0.1.0\")]"
   ]
  },
  {
   "cell_type": "code",
   "execution_count": 3,
   "metadata": {},
   "outputs": [
    {
     "data": {
      "text/plain": [
       "\"C:\\dev\\IfSharp\\src\\IfSharp\\bin\\Debug\""
      ]
     },
     "execution_count": 3,
     "metadata": {},
     "output_type": "execute_result"
    }
   ],
   "source": [
    "Paket.RootPath"
   ]
  },
  {
   "cell_type": "markdown",
   "metadata": {},
   "source": [
    "We need to add paths to the native dependencies, should we make an F# notebook helper? or in Paket request https://github.com/fsprojects/Paket/issues/3222"
   ]
  },
  {
   "cell_type": "code",
   "execution_count": 4,
   "metadata": {
    "collapsed": true
   },
   "outputs": [],
   "source": [
    "//Patch location for native dependencies\n",
    "System.Environment.SetEnvironmentVariable(\"Path\", \n",
    "    System.Environment.GetEnvironmentVariable(\"Path\") + \";\" + Paket.RootPath + @\"/packages/TorchSharp/runtimes/win7-x64/native\")"
   ]
  },
  {
   "cell_type": "code",
   "execution_count": 5,
   "metadata": {
    "collapsed": true
   },
   "outputs": [],
   "source": [
    "//Environment.SetEnvironmentVariable(\"LD_LIBRARY_PATH\", Environment.GetEnvironmentVariable(\"LD_LIBRARY_PATH\") + \":\" + /packages/TorchSharp/runtimes/)"
   ]
  },
  {
   "cell_type": "code",
   "execution_count": 6,
   "metadata": {
    "collapsed": true
   },
   "outputs": [],
   "source": [
    "#load \"Paket.Generated.Refs.fsx\""
   ]
  },
  {
   "cell_type": "code",
   "execution_count": 26,
   "metadata": {},
   "outputs": [
    {
     "data": {
      "text/plain": [
       "0.000000000000000000000000000000\r\n"
      ]
     },
     "metadata": {},
     "output_type": "display_data"
    }
   ],
   "source": [
    "//Directly adapted from: https://github.com/xamarin/TorchSharp\n",
    "open TorchSharp\n",
    "\n",
    "let x = new FloatTensor (100L)   // 1D-tensor with 100 elements\n",
    "let result = new FloatTensor (100L);\n",
    "\n",
    "FloatTensor.Add (x, 23.0f, result);\n",
    "\n",
    "printfn \"%.30f\" x.[12L]"
   ]
  }
 ],
 "metadata": {
  "kernelspec": {
   "display_name": "F#",
   "language": "fsharp",
   "name": "ifsharp"
  },
  "language": "fsharp",
  "language_info": {
   "codemirror_mode": "",
   "file_extension": ".fs",
   "mimetype": "text/x-fsharp",
   "name": "fsharp",
   "nbconvert_exporter": "",
   "pygments_lexer": "",
   "version": "4.3.1.0"
  }
 },
 "nbformat": 4,
 "nbformat_minor": 2
}
