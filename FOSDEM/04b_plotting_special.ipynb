{
 "cells": [
  {
   "cell_type": "markdown",
   "metadata": {},
   "source": [
    "http://predictionmachines.github.io/Angara.Chart/"
   ]
  },
  {
   "cell_type": "markdown",
   "metadata": {},
   "source": [
    "Thanks to Dmitry Grechka for this implementation:\n",
    "https://github.com/fsprojects/IfSharp/pull/190"
   ]
  },
  {
   "cell_type": "code",
   "execution_count": 1,
   "metadata": {
    "collapsed": true
   },
   "outputs": [],
   "source": [
    "#load \"Paket.fsx\"\n",
    "Paket.Clear()\n",
    "\n",
    "// First, paket installations\n",
    "#load \"Angara.Charting.Paket.fsx\"\n",
    "#load \"AsyncDisplay.Paket.fsx\"\n",
    "#load \".paket/load/Itis.Angara.Html.fsx\"\n",
    "\n",
    "// Then activations\n",
    "#load \"AsyncDisplay.fsx\"\n",
    "#load \"Angara.Charting.fsx\"\n",
    "#load \"Angara.Charting.Dynamic.fsx\""
   ]
  },
  {
   "cell_type": "code",
   "execution_count": 2,
   "metadata": {},
   "outputs": [
    {
     "data": {
      "text/html": [
       "\r\n",
       "            <section>\r\n",
       "            <div id='chartb149f41877ee4963a7d5d26c46afbc43' style='height:auto'></div>\r\n",
       "            <script src='https://cdnjs.cloudflare.com/ajax/libs/require.js/2.2.0/require.min.js'  type='text/javascript'></script>\r\n",
       "            <script type='text/javascript'>\r\n",
       "            require.config({                        \r\n",
       "            paths: {\r\n",
       "                'idd': 'https://cdn.rawgit.com/predictionmachines/InteractiveDataDisplay/v1.5.13/dist/idd',\r\n",
       "                'idd.umd': 'https://cdn.rawgit.com/predictionmachines/InteractiveDataDisplay/v1.5.13/dist/idd.umd',\r\n",
       "                'idd-css': 'https://cdn.rawgit.com/predictionmachines/InteractiveDataDisplay/v1.5.13/dist/idd.umd',\r\n",
       "                'jquery': 'https://cdnjs.cloudflare.com/ajax/libs/jquery/2.2.2/jquery.min',\r\n",
       "                'jquery-ui': 'https://cdnjs.cloudflare.com/ajax/libs/jqueryui/1.11.4/jquery-ui',\r\n",
       "                'css': 'https://cdnjs.cloudflare.com/ajax/libs/require-css/0.1.8/css.min',\r\n",
       "                'rx': 'https://cdnjs.cloudflare.com/ajax/libs/rxjs/4.1.0/rx.lite.min',\r\n",
       "                'svg': 'https://cdnjs.cloudflare.com/ajax/libs/svg.js/2.4.0/svg.min',\r\n",
       "                'filesaver': 'https://cdnjs.cloudflare.com/ajax/libs/FileSaver.js/1.3.3/FileSaver.min',\r\n",
       "                'jquery-mousewheel': 'https://cdnjs.cloudflare.com/ajax/libs/jquery-mousewheel/3.1.13/jquery.mousewheel.min',\r\n",
       "                'angara-serialization': 'https://cdn.rawgit.com/predictionmachines/Angara.Serialization/v0.3.0/dist/Angara.Serialization.umd'\r\n",
       "            }\r\n",
       "        });\r\n",
       "        require(['angara-serialization','idd.umd'], function (Serialization,Charting) {\r\n",
       "            //console.log('callback called');\r\n",
       "\r\n",
       "            var viewerControlb149f41877ee4963a7d5d26c46afbc43 = Charting.InteractiveDataDisplay.show(document.getElementById('chartb149f41877ee4963a7d5d26c46afbc43'), {});      \r\n",
       "\r\n",
       "            window.UpdateAngaraChartb149f41877ee4963a7d5d26c46afbc43 = function(encodedData) {\r\n",
       "                var decodedData = atob(encodedData);\r\n",
       "                //console.log(decodedData);\r\n",
       "                var parsed = JSON.parse(decodedData)\r\n",
       "                //console.log(parsed);\r\n",
       "                var infoset = Serialization.InfoSet.Unmarshal(parsed);\r\n",
       "                //console.log(infoset);\r\n",
       "                var chartInfo = Serialization.InfoSet.Deserialize(infoset);\r\n",
       "                //console.log(chartInfo);\r\n",
       "                \r\n",
       "                var plotMap = [];\r\n",
       "                for (var i = 0; i < chartInfo.plots.length; i++) {\r\n",
       "                    var pi = chartInfo.plots[i];\r\n",
       "                    var props = $.extend(true, {}, pi.properties);\r\n",
       "                    props['kind'] = pi.kind;\r\n",
       "                    props['displayName'] = pi.displayName;\r\n",
       "                    props['titles'] = pi.titles;\r\n",
       "                    plotMap[i] = props;\r\n",
       "                }\r\n",
       "\r\n",
       "                viewerControlb149f41877ee4963a7d5d26c46afbc43.update(plotMap);\r\n",
       "            }\r\n",
       "\r\n",
       "            \r\n",
       "            });\r\n",
       "            \r\n",
       "            </script>\r\n",
       "            </section>"
      ]
     },
     "metadata": {},
     "output_type": "display_data"
    },
    {
     "data": {
      "text/html": [
       "<div style='visibility=hidden'>                    \r\n",
       "                    <script type='text/javascript'>\r\n",
       "                    //console.log('probe');\r\n",
       "                    if(window.UpdateAngaraChartb149f41877ee4963a7d5d26c46afbc43) {\r\n",
       "                        window.UpdateAngaraChartb149f41877ee4963a7d5d26c46afbc43('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');\r\n",
       "                    }\r\n",
       "                    </script>\r\n",
       "                    </div>"
      ]
     },
     "metadata": {},
     "output_type": "display_data"
    }
   ],
   "source": [
    "open System\n",
    "open FSharp.Control\n",
    "open Angara.Charting\n",
    "\n",
    "let phi_0 = 0.0 // initial phase\n",
    "let N = 100 // number of chart points\n",
    "\n",
    "let x = Array.init N (fun i -> float(i)/float(N) * 2.0*Math.PI)\n",
    "\n",
    "/// the generator produces the next chart state using the previous state\n",
    "/// the state is a phase value\n",
    "let generator recent_phase =\n",
    "    async {\n",
    "        let new_phase = recent_phase + Math.PI/30.0\n",
    "        \n",
    "        // generating values\n",
    "        let y = Array.map (fun x -> Math.Sin(x+new_phase)) x\n",
    "        \n",
    "        let chart = \n",
    "            [\n",
    "                Angara.Charting.Plot.markers(x,y)\n",
    "            ] |> Chart.ofList\n",
    "        do! Async.Sleep 100 // slowing down the sequence generation process\n",
    "        return Some (chart,new_phase)\n",
    "        }\n",
    "    \n",
    "let live_chart = //this is infinitly updated chart\n",
    "    AsyncSeq.unfoldAsync generator phi_0\n",
    "    \n",
    "//returning only 200 first iterations\n",
    "AsyncSeq.take 200 live_chart"
   ]
  },
  {
   "cell_type": "code",
   "execution_count": null,
   "metadata": {
    "collapsed": true
   },
   "outputs": [],
   "source": []
  }
 ],
 "metadata": {
  "kernelspec": {
   "display_name": "F#",
   "language": "fsharp",
   "name": "ifsharp"
  },
  "language": "fsharp",
  "language_info": {
   "codemirror_mode": "",
   "file_extension": ".fs",
   "mimetype": "text/x-fsharp",
   "name": "fsharp",
   "nbconvert_exporter": "",
   "pygments_lexer": "",
   "version": "4.3.1.0"
  }
 },
 "nbformat": 4,
 "nbformat_minor": 2
}
