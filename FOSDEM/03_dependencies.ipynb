{
 "cells": [
  {
   "cell_type": "markdown",
   "metadata": {},
   "source": [
    "You may want to make use of parts of .net that aren't default opened"
   ]
  },
  {
   "cell_type": "code",
   "execution_count": null,
   "metadata": {
    "collapsed": true
   },
   "outputs": [],
   "source": [
    "System.Windows.Forms.DataVisualization //WebClient / System.NET"
   ]
  },
  {
   "cell_type": "code",
   "execution_count": null,
   "metadata": {
    "collapsed": true
   },
   "outputs": [],
   "source": [
    "#r \"System.Windows.Forms.DataVisualization.dll\""
   ]
  },
  {
   "cell_type": "code",
   "execution_count": null,
   "metadata": {
    "collapsed": true
   },
   "outputs": [],
   "source": [
    "System.Windows.Forms.DataVisualization.Charting.Point3D()"
   ]
  },
  {
   "cell_type": "markdown",
   "metadata": {},
   "source": [
    "You can also use this with your own libraries:"
   ]
  },
  {
   "cell_type": "code",
   "execution_count": null,
   "metadata": {
    "collapsed": true
   },
   "outputs": [],
   "source": [
    "#r \"../../somewhere/on/yourlocalmachine/amazing.dll\""
   ]
  },
  {
   "cell_type": "markdown",
   "metadata": {},
   "source": [
    "Paket https://fsprojects.github.io/Paket/ (NuGet client)"
   ]
  },
  {
   "cell_type": "code",
   "execution_count": 1,
   "metadata": {
    "collapsed": true
   },
   "outputs": [],
   "source": [
    "#load \"Paket.fsx\"\n",
    "Paket.Clear()\n",
    "//Paket.Package([\"FsLab\"])\n",
    "Paket.Version([\"FsLab\", \"1.1.5\"])"
   ]
  },
  {
   "cell_type": "code",
   "execution_count": 5,
   "metadata": {},
   "outputs": [
    {
     "data": {
      "text/plain": [
       "\"#r \"IfSharp.Kernel.dll\"\r\n",
       "#r \"Chessie.dll\"\r\n",
       "#r \"Paket.Core.dll\"\r\n",
       "\r\n",
       "open System\r\n",
       "open Paket\r\n",
       "open Paket.LoadingScripts.ScriptGeneration\r\n",
       "\r\n",
       "let deps = \r\n",
       "    let dir =\r\n",
       "        Reflection.Assembly.GetEntryAssembly().Location\r\n",
       "        |> IO.Path.GetDirectoryName\r\n",
       "\r\n",
       "    let d =\r\n",
       "        try\r\n",
       "            Dependencies.Locate(dir)\r\n",
       "        with _ ->\r\n",
       "            Dependencies.Init(dir)\r\n",
       "            Dependencies.Locate(dir)\r\n",
       "\r\n",
       "    d.Restore(false)\r\n",
       "    d\r\n",
       "\r\n",
       "let RootPath =\r\n",
       "    deps.RootPath\r\n",
       "\r\n",
       "let private remove_quiet packageName =\r\n",
       "    deps.Remove(\r\n",
       "        None,\r\n",
       "        packageName,\r\n",
       "        force = false,\r\n",
       "        interactive = false,\r\n",
       "        installAfter = false)\r\n",
       "\r\n",
       "let private add package version =\r\n",
       "    remove_quiet package\r\n",
       "    deps.Add(\r\n",
       "        None,\r\n",
       "        package,\r\n",
       "        version,\r\n",
       "        force = false,\r\n",
       "        withBindingRedirects = false,\r\n",
       "        cleanBindingRedirects = false,\r\n",
       "        createNewBindingFiles = false,\r\n",
       "        interactive = false,\r\n",
       "        installAfter = false,\r\n",
       "        semVerUpdateMode = SemVerUpdateMode.NoRestriction,\r\n",
       "        touchAffectedRefs = false)\r\n",
       "\r\n",
       "let Package list =\r\n",
       "    for package in list do\r\n",
       "        add package \"\"\r\n",
       "\r\n",
       "    deps.Install(false)\r\n",
       "    ()\r\n",
       "\r\n",
       "let private addGitHub repo file version options =\r\n",
       "    remove_quiet repo\r\n",
       "    deps.AddGithub(\r\n",
       "        None,\r\n",
       "        repo,\r\n",
       "        file,\r\n",
       "        version,\r\n",
       "        options)\r\n",
       "        \r\n",
       "let private getPartOrDefault delimiter s =  \r\n",
       "    let splitBy delimiter (line:string)  = Seq.toList (line.Split delimiter)\r\n",
       "    let splitedByDelimiter = splitBy [|delimiter|] s\r\n",
       "    if splitedByDelimiter.Length > 1 then            \r\n",
       "        splitedByDelimiter.[0], splitedByDelimiter.[1]\r\n",
       "    else\r\n",
       "        splitedByDelimiter.[0], \"\"\r\n",
       " \r\n",
       "let private GitHubString gitHubRepoString =\r\n",
       "    let GitHubRepoStringCheck =\r\n",
       "        System.Text.RegularExpressions.Regex(\"^[a-zA-Z\\d]+(-[a-zA-Z\\d]+)*/[a-zA-Z\\d\\.]+(-[a-zA-Z\\d\\.]+)*(:[a-zA-Z\\d\\.]+(-[a-zA-Z\\d\\.]+)*)?( [a-zA-Z\\d\\.]+(-[a-zA-Z\\d\\.]+)*(/[a-zA-Z\\d\\.]+(-[a-zA-Z\\d\\.]+)*)*)*$\")\r\n",
       "    let GitHubRepoStringCheckIsValid (s:string) = GitHubRepoStringCheck.IsMatch s\r\n",
       "\r\n",
       "    if not(GitHubRepoStringCheckIsValid gitHubRepoString)\r\n",
       "    then raise (System.ArgumentException(\"GitHub repository string should match the pattern: user/repo[:version][ file]\", \"GitHubRepoString\"))\r\n",
       "     \r\n",
       "        \r\n",
       "    let repo, file, version =\r\n",
       "        let repoVersion, file =\r\n",
       "            getPartOrDefault ' ' gitHubRepoString\r\n",
       "        let repo, version =\r\n",
       "            getPartOrDefault ':' repoVersion\r\n",
       "        repo, file, version\r\n",
       "\r\n",
       "    addGitHub repo file version InstallerOptions.Default\r\n",
       "    deps.Install(false)\r\n",
       "    ()\r\n",
       "\r\n",
       "let GitHub list =\r\n",
       "    for repo in list do\r\n",
       "        GitHubString repo\r\n",
       "    deps.Install(false)\r\n",
       "    ()\r\n",
       "\r\n",
       "let private addGit repo version options =\r\n",
       "    printfn \"addGit repo=%s version=%s\" repo version\r\n",
       "    deps.AddGit(\r\n",
       "        None,\r\n",
       "        repo,\r\n",
       "        version,\r\n",
       "        options)\r\n",
       "    \r\n",
       "let private GitString gitRepoString =\r\n",
       "    let GitRepoStringCheck =\r\n",
       "        System.Text.RegularExpressions.Regex(\"^\\S*(\\s+\\S*)?$\")\r\n",
       "    let GitRepoStringCheckIsValid (s:string) = GitRepoStringCheck.IsMatch s\r\n",
       "\r\n",
       "    if not(GitRepoStringCheckIsValid gitRepoString)\r\n",
       "    then raise (System.ArgumentException(\"Git repository string should match the pattern: repo[ version]\", \"GitRepoString\"))\r\n",
       "    \r\n",
       "    let repo, version = getPartOrDefault ' ' gitRepoString\r\n",
       "    addGit repo version InstallerOptions.Default\r\n",
       "    \r\n",
       "    deps.Install(false)\r\n",
       "    ()\r\n",
       "\r\n",
       "let Git list =\r\n",
       "    for repo in list do\r\n",
       "        GitString repo\r\n",
       "    deps.Install(false)\r\n",
       "    ()\r\n",
       "\r\n",
       "let Version list =\r\n",
       "    for package, version in list do\r\n",
       "        add package version\r\n",
       "\r\n",
       "    deps.Install(false)\r\n",
       "    ()\r\n",
       "\r\n",
       "let Clear() =\r\n",
       "    deps.GetInstalledPackages() |> List.iter (fun (_, package, _) -> remove_quiet package)\r\n",
       "    add \"FSharp.Core\" \"= 4.5.4\"\r\n",
       "    ()\r\n",
       "\""
      ]
     },
     "execution_count": 5,
     "metadata": {},
     "output_type": "execute_result"
    }
   ],
   "source": [
    "(Paket.RootPath, \"Paket.fsx\") |> System.IO.Path.Combine |> System.IO.File.ReadAllText "
   ]
  },
  {
   "cell_type": "markdown",
   "metadata": {},
   "source": [
    "So we could #r into the FsLab "
   ]
  },
  {
   "cell_type": "code",
   "execution_count": 4,
   "metadata": {},
   "outputs": [
    {
     "name": "stderr",
     "output_type": "stream",
     "text": [
      "System.IO.FileLoadException: The given assembly name or codebase was invalid. (Exception from HRESULT: 0x80131047)\r\n",
      "   at System.Reflection.AssemblyName.nInit(RuntimeAssembly& assembly, Boolean forIntrospection, Boolean raiseResolveEvent)\r\n",
      "   at System.Reflection.AssemblyName..ctor(String assemblyName)\r\n",
      "   at Microsoft.FSharp.Compiler.SimulatedMSBuildReferenceResolver.SimulatedMSBuildResolver@29.Microsoft-FSharp-Compiler-ReferenceResolver-Resolver-Resolve(ResolutionEnvironment resolutionEnvironment, Tuple`2[] references, String targetFrameworkVersion, FSharpList`1 targetFrameworkDirectories, String targetProcessorArchitecture, String fsharpCoreDir, FSharpList`1 explicitIncludeDirs, String implicitIncludeDir, FSharpFunc`2 logMessage, FSharpFunc`2 logWarningOrError) (Code=SR001)\r\n",
      "Assembly reference '/packages/FsLab/FsLab.fsx' was not found or is invalid"
     ]
    }
   ],
   "source": [
    "//#r \"/packages/FsLab/FsLab.fsx\""
   ]
  },
  {
   "cell_type": "markdown",
   "metadata": {},
   "source": [
    "But it's much safer to just let Paket handle this as well (we activate this by default: https://fsprojects.github.io/Paket/paket-generate-load-scripts.html)"
   ]
  },
  {
   "cell_type": "code",
   "execution_count": 7,
   "metadata": {
    "collapsed": true
   },
   "outputs": [],
   "source": [
    "#load \"Paket.Generated.Refs.fsx\"\n",
    "//#load @\".paket/load/main.group.fsx\""
   ]
  },
  {
   "cell_type": "code",
   "execution_count": 8,
   "metadata": {
    "collapsed": true
   },
   "outputs": [],
   "source": [
    "open System\n",
    "open Deedle"
   ]
  },
  {
   "cell_type": "markdown",
   "metadata": {},
   "source": [
    "http://fslaborg.github.io/Deedle/tutorial.html#Creating-series-and-frames"
   ]
  },
  {
   "cell_type": "code",
   "execution_count": null,
   "metadata": {
    "collapsed": true
   },
   "outputs": [],
   "source": [
    "let dates  = \n",
    "  [ DateTime(2013,1,1); \n",
    "    DateTime(2013,1,4); \n",
    "    DateTime(2013,1,8) ]\n",
    "let values = \n",
    "  [ 10.0; 20.0; 30.0 ]\n",
    "let first = Series(dates, values)\n",
    "\n",
    "// Create from a single list of observations\n",
    "Series.ofObservations\n",
    "  [ DateTime(2013,1,1) => 10.0\n",
    "    DateTime(2013,1,4) => 20.0\n",
    "    DateTime(2013,1,8) => 30.0 ]"
   ]
  },
  {
   "cell_type": "code",
   "execution_count": 5,
   "metadata": {},
   "outputs": [
    {
     "name": "stderr",
     "output_type": "stream",
     "text": [
      "Unable to find the file 'Deedle.fsx' in any of\n",
      " C:\\dev\\IfSharp\\src\\IfSharp\\bin\\Release\n",
      " C:\\dev\\OpenFS2018.4\\notebooks"
     ]
    }
   ],
   "source": [
    "//#load \"Deedle.fsx\" //Doesn't help, we'll return to this later"
   ]
  },
  {
   "cell_type": "code",
   "execution_count": 9,
   "metadata": {},
   "outputs": [
    {
     "data": {
      "text/plain": [
       "series [ 01/01/2013 00:00:00 => 10; 01/04/2013 00:00:00 => 20; 01/08/2013 00:00:00 => 30]"
      ]
     },
     "execution_count": 9,
     "metadata": {},
     "output_type": "execute_result"
    }
   ],
   "source": [
    "Series.ofObservations\n",
    "  [ DateTime(2013,1,1) => 10.0\n",
    "    DateTime(2013,1,4) => 20.0\n",
    "    DateTime(2013,1,8) => 30.0 ]"
   ]
  },
  {
   "cell_type": "markdown",
   "metadata": {},
   "source": [
    "Getting formatting? GitHub dependencies https://github.com/fsprojects/IfSharp/pull/179 thanks to Людмила Мухаметдинова (Lucy Mu) and of course Paket itself\n",
    "\n"
   ]
  },
  {
   "cell_type": "code",
   "execution_count": 10,
   "metadata": {
    "collapsed": true
   },
   "outputs": [],
   "source": [
    "Paket.GitHub [\"mndrake/IfSharpLab src/DeedleFormat.fs\"]"
   ]
  },
  {
   "cell_type": "markdown",
   "metadata": {},
   "source": [
    "https://github.com/mndrake/IfSharpLab thanks to David Carlson"
   ]
  },
  {
   "cell_type": "code",
   "execution_count": 11,
   "metadata": {
    "collapsed": true
   },
   "outputs": [],
   "source": [
    "#load \"paket-files/mndrake/IfSharpLab/src/DeedleFormat.fs\""
   ]
  },
  {
   "cell_type": "code",
   "execution_count": 12,
   "metadata": {},
   "outputs": [
    {
     "data": {
      "text/html": [
       "<div class='deedleseries'>\n",
       "<table>\n",
       "<thead>\n",
       "<tr class='header'>\n",
       "<th><p>Keys</p></th>\n",
       "<th><p>01/01/2013 00:00:00</p></th>\n",
       "<th><p>01/04/2013 00:00:00</p></th>\n",
       "<th><p>01/08/2013 00:00:00</p></th>\n",
       "</tr>\n",
       "</thead>\n",
       "<tbody>\n",
       "<tr class='odd'>\n",
       "<td><p>Values</p></td>\n",
       "<td><p>10</p></td>\n",
       "<td><p>20</p></td>\n",
       "<td><p>30</p></td>\n",
       "</tr>\n",
       "</tbody>\n",
       "</table>\n",
       "</div>\n"
      ],
      "text/plain": [
       "series [ 01/01/2013 00:00:00 => 10; 01/04/2013 00:00:00 => 20; 01/08/2013 00:00:00 => 30]"
      ]
     },
     "execution_count": 12,
     "metadata": {},
     "output_type": "execute_result"
    }
   ],
   "source": [
    "Series.ofObservations\n",
    "  [ DateTime(2013,1,1) => 10.0\n",
    "    DateTime(2013,1,4) => 20.0\n",
    "    DateTime(2013,1,8) => 30.0 ]"
   ]
  },
  {
   "cell_type": "markdown",
   "metadata": {},
   "source": [
    "Don't want to hard code all our data in!"
   ]
  },
  {
   "cell_type": "markdown",
   "metadata": {},
   "source": [
    "https://datahelpdesk.worldbank.org/knowledgebase/articles/902061-climate-data-api\n",
    "\n",
    "http://climatedataapi.worldbank.org/climateweb/rest/v1/country/cru/tas/month/USA.csv"
   ]
  },
  {
   "cell_type": "markdown",
   "metadata": {},
   "source": [
    "Ignore this I guess? Can a Deedle expert explain?\n",
    "\n",
    "https://stackoverflow.com/questions/42671973/why-frame-x-static-methods-from-deedle-are-generating-warnings-in-vs-2017\n",
    "https://github.com/fslaborg/Deedle/blob/d4acfa54f4112ac8143db9ba55b138fcff2b8c10/src/Deedle/FrameExtensions.fs#L91"
   ]
  },
  {
   "cell_type": "code",
   "execution_count": 13,
   "metadata": {},
   "outputs": [
    {
     "name": "stderr",
     "output_type": "stream",
     "text": [
      "This method is not intended for use from F#.\r\n",
      "This method is not intended for use from F#."
     ]
    },
    {
     "data": {
      "text/html": [
       "<div class='deedleframe'>\n",
       "<table>\n",
       "<thead>\n",
       "<tr class='header'>\n",
       "<th></th>\n",
       "<th><p>month</p></th>\n",
       "<th><p>data</p></th>\n",
       "</tr>\n",
       "</thead>\n",
       "<tbody>\n",
       "<tr class='odd'>\n",
       "<td><p>0</p></td>\n",
       "<td><p>0</p></td>\n",
       "<td><p>-5.662018299102783</p></td>\n",
       "</tr>\n",
       "<tr class='even'>\n",
       "<td><p>1</p></td>\n",
       "<td><p>1</p></td>\n",
       "<td><p>-3.8577041625976562</p></td>\n",
       "</tr>\n",
       "<tr class='odd'>\n",
       "<td><p>2</p></td>\n",
       "<td><p>2</p></td>\n",
       "<td><p>0.05168289691209793</p></td>\n",
       "</tr>\n",
       "<tr class='even'>\n",
       "<td><p>3</p></td>\n",
       "<td><p>3</p></td>\n",
       "<td><p>5.926177024841309</p></td>\n",
       "</tr>\n",
       "<tr class='odd'>\n",
       "<td><p>4</p></td>\n",
       "<td><p>4</p></td>\n",
       "<td><p>11.95919418334961</p></td>\n",
       "</tr>\n",
       "<tr class='even'>\n",
       "<td><p>5</p></td>\n",
       "<td><p>5</p></td>\n",
       "<td><p>16.916400909423828</p></td>\n",
       "</tr>\n",
       "<tr class='odd'>\n",
       "<td><p>6</p></td>\n",
       "<td><p>6</p></td>\n",
       "<td><p>19.666900634765625</p></td>\n",
       "</tr>\n",
       "<tr class='even'>\n",
       "<td><p>7</p></td>\n",
       "<td><p>7</p></td>\n",
       "<td><p>18.69156837463379</p></td>\n",
       "</tr>\n",
       "<tr class='odd'>\n",
       "<td><p>8</p></td>\n",
       "<td><p>8</p></td>\n",
       "<td><p>14.496589660644531</p></td>\n",
       "</tr>\n",
       "<tr class='even'>\n",
       "<td><p>9</p></td>\n",
       "<td><p>9</p></td>\n",
       "<td><p>7.980857849121094</p></td>\n",
       "</tr>\n",
       "<tr class='odd'>\n",
       "<td><p>10</p></td>\n",
       "<td><p>10</p></td>\n",
       "<td><p>0.6838346719741821</p></td>\n",
       "</tr>\n",
       "<tr class='even'>\n",
       "<td><p>11</p></td>\n",
       "<td><p>11</p></td>\n",
       "<td><p>-4.223825931549072</p></td>\n",
       "</tr>\n",
       "</tbody>\n",
       "</table>\n",
       "</div>\n"
      ],
      "text/plain": [
       "Deedle.Frame`2[System.Int32,System.String]"
      ]
     },
     "execution_count": 13,
     "metadata": {},
     "output_type": "execute_result"
    }
   ],
   "source": [
    "Frame.ReadCsv(\"USA.csv\")"
   ]
  },
  {
   "cell_type": "code",
   "execution_count": 14,
   "metadata": {},
   "outputs": [
    {
     "data": {
      "text/html": [
       "<div class='deedleframe'>\n",
       "<table>\n",
       "<thead>\n",
       "<tr class='header'>\n",
       "<th></th>\n",
       "<th><p>month</p></th>\n",
       "<th><p>data</p></th>\n",
       "</tr>\n",
       "</thead>\n",
       "<tbody>\n",
       "<tr class='odd'>\n",
       "<td><p>0</p></td>\n",
       "<td><p>0</p></td>\n",
       "<td><p>-5.662018299102783</p></td>\n",
       "</tr>\n",
       "<tr class='even'>\n",
       "<td><p>1</p></td>\n",
       "<td><p>1</p></td>\n",
       "<td><p>-3.8577041625976562</p></td>\n",
       "</tr>\n",
       "<tr class='odd'>\n",
       "<td><p>2</p></td>\n",
       "<td><p>2</p></td>\n",
       "<td><p>0.05168289691209793</p></td>\n",
       "</tr>\n",
       "<tr class='even'>\n",
       "<td><p>3</p></td>\n",
       "<td><p>3</p></td>\n",
       "<td><p>5.926177024841309</p></td>\n",
       "</tr>\n",
       "<tr class='odd'>\n",
       "<td><p>4</p></td>\n",
       "<td><p>4</p></td>\n",
       "<td><p>11.95919418334961</p></td>\n",
       "</tr>\n",
       "<tr class='even'>\n",
       "<td><p>5</p></td>\n",
       "<td><p>5</p></td>\n",
       "<td><p>16.916400909423828</p></td>\n",
       "</tr>\n",
       "<tr class='odd'>\n",
       "<td><p>6</p></td>\n",
       "<td><p>6</p></td>\n",
       "<td><p>19.666900634765625</p></td>\n",
       "</tr>\n",
       "<tr class='even'>\n",
       "<td><p>7</p></td>\n",
       "<td><p>7</p></td>\n",
       "<td><p>18.69156837463379</p></td>\n",
       "</tr>\n",
       "<tr class='odd'>\n",
       "<td><p>8</p></td>\n",
       "<td><p>8</p></td>\n",
       "<td><p>14.496589660644531</p></td>\n",
       "</tr>\n",
       "<tr class='even'>\n",
       "<td><p>9</p></td>\n",
       "<td><p>9</p></td>\n",
       "<td><p>7.980857849121094</p></td>\n",
       "</tr>\n",
       "<tr class='odd'>\n",
       "<td><p>10</p></td>\n",
       "<td><p>10</p></td>\n",
       "<td><p>0.6838346719741821</p></td>\n",
       "</tr>\n",
       "<tr class='even'>\n",
       "<td><p>11</p></td>\n",
       "<td><p>11</p></td>\n",
       "<td><p>-4.223825931549072</p></td>\n",
       "</tr>\n",
       "</tbody>\n",
       "</table>\n",
       "</div>\n"
      ],
      "text/plain": [
       "Deedle.Frame`2[System.Int32,System.String]"
      ]
     },
     "execution_count": 14,
     "metadata": {},
     "output_type": "execute_result"
    }
   ],
   "source": [
    "Frame.ReadCsv(\"USA.csv\", hasHeaders=true)"
   ]
  },
  {
   "cell_type": "code",
   "execution_count": null,
   "metadata": {
    "collapsed": true
   },
   "outputs": [],
   "source": []
  }
 ],
 "metadata": {
  "kernelspec": {
   "display_name": "F#",
   "language": "fsharp",
   "name": "ifsharp"
  },
  "language": "fsharp",
  "language_info": {
   "codemirror_mode": "",
   "file_extension": ".fs",
   "mimetype": "text/x-fsharp",
   "name": "fsharp",
   "nbconvert_exporter": "",
   "pygments_lexer": "",
   "version": "4.3.1.0"
  }
 },
 "nbformat": 4,
 "nbformat_minor": 2
}
