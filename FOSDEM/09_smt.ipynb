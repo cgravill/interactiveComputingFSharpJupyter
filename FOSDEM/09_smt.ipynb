{
 "cells": [
  {
   "cell_type": "markdown",
   "metadata": {},
   "source": [
    "Background: https://en.wikipedia.org/wiki/Satisfiability_modulo_theories\n",
    "\n",
    "Library: https://github.com/Z3Prover/z3#z3"
   ]
  },
  {
   "cell_type": "markdown",
   "metadata": {},
   "source": [
    "## Set-up, only needed initially"
   ]
  },
  {
   "cell_type": "code",
   "execution_count": 1,
   "metadata": {
    "collapsed": true
   },
   "outputs": [],
   "source": [
    "open System.Net\n",
    "\n",
    "let wc = new WebClient()\n",
    "//wc.DownloadFile(\"https://github.com/Z3Prover/z3/releases/download/z3-4.6.0/z3-4.6.0-x64-ubuntu-16.04.zip\", @\"z3-4.6.0-x64-ubuntu-16.04.zip\")\n",
    "wc.DownloadFile(\"https://github.com/Z3Prover/z3/releases/download/z3-4.6.0/z3-4.6.0-x64-win.zip\", @\"z3-4.6.0-x64-win.zip\")\n",
    "//macOS version too\n"
   ]
  },
  {
   "cell_type": "code",
   "execution_count": 2,
   "metadata": {},
   "outputs": [
    {
     "name": "stderr",
     "output_type": "stream",
     "text": [
      "Expression evaluation failed: The file 'C:\\dev\\OpenFS2018.4\\notebooks\\z3-4.6.0-x64-win\\LICENSE.txt' already exists.\r\n",
      "IOExceptionThe file 'C:\\dev\\OpenFS2018.4\\notebooks\\z3-4.6.0-x64-win\\LICENSE.txt' already exists.\r\n",
      "   at System.IO.__Error.WinIOError(Int32 errorCode, String maybeFullPath)\r\n",
      "   at System.IO.FileStream.Init(String path, FileMode mode, FileAccess access, Int32 rights, Boolean useRights, FileShare share, Int32 bufferSize, FileOptions options, SECURITY_ATTRIBUTES secAttrs, String msgPath, Boolean bFromProxy, Boolean useLongPath, Boolean checkHost)\r\n",
      "   at System.IO.FileStream..ctor(String path, FileMode mode, FileAccess access, FileShare share)\r\n",
      "   at System.IO.Compression.ZipFileExtensions.ExtractToFile(ZipArchiveEntry source, String destinationFileName, Boolean overwrite)\r\n",
      "   at System.IO.Compression.ZipFileExtensions.ExtractToDirectory(ZipArchive source, String destinationDirectoryName)\r\n",
      "   at System.IO.Compression.ZipFile.ExtractToDirectory(String sourceArchiveFileName, String destinationDirectoryName, Encoding entryNameEncoding)\r\n",
      "   at <StartupCode$FSI_0006>.$FSI_0006.main@()\r\n"
     ]
    }
   ],
   "source": [
    "//This will take a while\n",
    "#r \"System.IO.Compression.FileSystem.dll\"\n",
    "\n",
    "open System;\n",
    "open System.IO;\n",
    "open System.IO.Compression;\n",
    "\n",
    "//ZipFile.ExtractToDirectory(\"z3-4.6.0-x64-ubuntu-16.04.zip\", \".\")\n",
    "ZipFile.ExtractToDirectory(\"z3-4.6.0-x64-win.zip\", \".\")\n"
   ]
  },
  {
   "cell_type": "markdown",
   "metadata": {},
   "source": [
    "## Reference and use Z3"
   ]
  },
  {
   "cell_type": "code",
   "execution_count": 3,
   "metadata": {
    "collapsed": true
   },
   "outputs": [],
   "source": [
    "#r \"z3-4.6.0-x64-win/bin/Microsoft.Z3.dll\"\n",
    "//#r \"z3-4.6.0-x64-ubuntu-16.04/bin/Microsoft.Z3.dll\""
   ]
  },
  {
   "cell_type": "code",
   "execution_count": 4,
   "metadata": {},
   "outputs": [
    {
     "data": {
      "text/plain": [
       "Microsoft.Z3.Context"
      ]
     },
     "execution_count": 4,
     "metadata": {},
     "output_type": "execute_result"
    }
   ],
   "source": [
    "open Microsoft.Z3\n",
    "let ctx = new Context()\n",
    "ctx\n"
   ]
  },
  {
   "cell_type": "code",
   "execution_count": 5,
   "metadata": {
    "collapsed": true
   },
   "outputs": [],
   "source": [
    "let petPurchasing() =\n",
    "    use context = new Microsoft.Z3.Context()\n",
    "\n",
    "    let dogCount = context.MkIntConst(\"dog\")\n",
    "    let catCount = context.MkIntConst(\"cat\")\n",
    "    let mouseCount = context.MkIntConst(\"mouse\")\n",
    "\n",
    "    //Expression for cost for the animals\n",
    "    let dogsCost = context.MkMul(context.MkInt(1500), dogCount)\n",
    "    let catsCost = context.MkMul(context.MkInt(100), catCount)\n",
    "    let miceCost = context.MkMul(context.MkInt(25), mouseCount)\n",
    "\n",
    "    let solver = context.MkSolver()\n",
    "    //Ensure >= number of animals\n",
    "    solver.Assert(context.MkGe(dogCount,context.MkInt(1)))\n",
    "    solver.Assert(context.MkGe(catCount,context.MkInt(1)))\n",
    "    solver.Assert(context.MkGe(mouseCount,context.MkInt(1)))\n",
    "    \n",
    "    let summedCost = context.MkAdd(dogsCost, catsCost, miceCost)\n",
    "\n",
    "    //Ensure we spend exactly all our money\n",
    "    solver.Assert(context.MkEq(context.MkInt(10000), summedCost))\n",
    "\n",
    "    let status = solver.Check()\n",
    "\n",
    "    match status with\n",
    "    | Status.SATISFIABLE ->\n",
    "            printfn \"dogs: %s, cats: %s, mice: %s\"\n",
    "                (solver.Model.Eval(dogCount, true).ToString())\n",
    "                (solver.Model.Eval(catCount, true).ToString())\n",
    "                (solver.Model.Eval(mouseCount, true).ToString())\n",
    "    | _ -> printfn \"UNSAT\" "
   ]
  },
  {
   "cell_type": "code",
   "execution_count": 6,
   "metadata": {},
   "outputs": [
    {
     "data": {
      "text/plain": [
       "dogs: 6, cats: 9, mice: 4\r\n"
      ]
     },
     "metadata": {},
     "output_type": "display_data"
    }
   ],
   "source": [
    "petPurchasing()"
   ]
  },
  {
   "cell_type": "markdown",
   "metadata": {},
   "source": [
    "Nicer DSL approach: https://github.com/dungpa/Z3Fs#examples"
   ]
  },
  {
   "cell_type": "code",
   "execution_count": null,
   "metadata": {
    "collapsed": true
   },
   "outputs": [],
   "source": []
  },
  {
   "cell_type": "markdown",
   "metadata": {},
   "source": [
    "https://notebooks.azure.com/cgravill/libraries/z3sample/html/z3sample.ipynb\n",
    "\n",
    "https://notebooks.azure.com/ian-buckley/libraries/probabilistic-programming"
   ]
  },
  {
   "cell_type": "code",
   "execution_count": null,
   "metadata": {
    "collapsed": true
   },
   "outputs": [],
   "source": []
  }
 ],
 "metadata": {
  "kernelspec": {
   "display_name": "F#",
   "language": "fsharp",
   "name": "ifsharp"
  },
  "language": "fsharp",
  "language_info": {
   "codemirror_mode": "",
   "file_extension": ".fs",
   "mimetype": "text/x-fsharp",
   "name": "fsharp",
   "nbconvert_exporter": "",
   "pygments_lexer": "",
   "version": "4.3.1.0"
  }
 },
 "nbformat": 4,
 "nbformat_minor": 2
}
