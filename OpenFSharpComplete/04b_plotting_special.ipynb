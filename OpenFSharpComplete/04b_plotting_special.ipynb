{
 "cells": [
  {
   "cell_type": "markdown",
   "metadata": {},
   "source": [
    "http://predictionmachines.github.io/Angara.Chart/"
   ]
  },
  {
   "cell_type": "markdown",
   "metadata": {},
   "source": [
    "Thanks to Dmitry Grechka for this implementation:\n",
    "https://github.com/fsprojects/IfSharp/pull/190"
   ]
  },
  {
   "cell_type": "code",
   "execution_count": null,
   "metadata": {},
   "outputs": [],
   "source": [
    "#load \"Paket.fsx\"\n",
    "Paket.Clear()\n",
    "\n",
    "// First, paket installations\n",
    "#load \"Angara.Charting.Paket.fsx\"\n",
    "#load \"AsyncDisplay.Paket.fsx\"\n",
    "#load \".paket/load/Itis.Angara.Html.fsx\"\n",
    "\n",
    "// Then activations\n",
    "#load \"AsyncDisplay.fsx\"\n",
    "#load \"Angara.Charting.fsx\"\n",
    "#load \"Angara.Charting.Dynamic.fsx\""
   ]
  },
  {
   "cell_type": "code",
   "execution_count": null,
   "metadata": {},
   "outputs": [],
   "source": [
    "open System\n",
    "open FSharp.Control\n",
    "open Angara.Charting\n",
    "\n",
    "let phi_0 = 0.0 // initial phase\n",
    "let N = 100 // number of chart points\n",
    "\n",
    "let x = Array.init N (fun i -> float(i)/float(N) * 2.0*Math.PI)\n",
    "\n",
    "/// the generator produces the next chart state using the previous state\n",
    "/// the state is a phase value\n",
    "let generator recent_phase =\n",
    "    async {\n",
    "        let new_phase = recent_phase + Math.PI/30.0\n",
    "        \n",
    "        // generating values\n",
    "        let y = Array.map (fun x -> Math.Sin(x+new_phase)) x\n",
    "        \n",
    "        let chart = \n",
    "            [\n",
    "                Angara.Charting.Plot.markers(x,y)\n",
    "            ] |> Chart.ofList\n",
    "        do! Async.Sleep 100 // slowing down the sequence generation process\n",
    "        return Some (chart,new_phase)\n",
    "        }\n",
    "    \n",
    "let live_chart = //this is infinitly updated chart\n",
    "    AsyncSeq.unfoldAsync generator phi_0\n",
    "    \n",
    "//returning only 200 first iterations\n",
    "AsyncSeq.take 200 live_chart"
   ]
  },
  {
   "cell_type": "code",
   "execution_count": null,
   "metadata": {},
   "outputs": [],
   "source": []
  }
 ],
 "metadata": {
  "kernelspec": {
   "display_name": "F#",
   "language": "fsharp",
   "name": "ifsharp"
  },
  "language": "fsharp",
  "language_info": {
   "codemirror_mode": "",
   "file_extension": ".fs",
   "mimetype": "text/x-fsharp",
   "name": "fsharp",
   "nbconvert_exporter": "",
   "pygments_lexer": "",
   "version": "4.3.1.0"
  }
 },
 "nbformat": 4,
 "nbformat_minor": 2
}
