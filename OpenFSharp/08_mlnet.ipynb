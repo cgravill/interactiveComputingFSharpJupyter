{
 "cells": [
  {
   "cell_type": "markdown",
   "metadata": {},
   "source": [
    "WARNING: experimental FSI + .net standard"
   ]
  },
  {
   "cell_type": "code",
   "execution_count": null,
   "metadata": {},
   "outputs": [],
   "source": [
    "#load \"Paket.fsx\""
   ]
  },
  {
   "cell_type": "code",
   "execution_count": null,
   "metadata": {},
   "outputs": [],
   "source": [
    "Paket.Version [ \n",
    "    \"Microsoft.ML\", \"0.5\"\n",
    "    \"NETStandard.Library\", \"2.0.3\"]"
   ]
  },
  {
   "cell_type": "code",
   "execution_count": null,
   "metadata": {},
   "outputs": [],
   "source": [
    "//Patch location for native dependencies\n",
    "System.Environment.SetEnvironmentVariable(\"Path\", \n",
    "    System.Environment.GetEnvironmentVariable(\"Path\") + \";\" + Paket.RootPath + @\"/packages/Microsoft.ML/runtimes/win-x64/native/\")\n",
    "    \n",
    "System.Environment.SetEnvironmentVariable(\"Path\", \n",
    "    System.Environment.GetEnvironmentVariable(\"Path\") + \";\" + Paket.RootPath + @\"/packages/Microsoft.ML.CpuMath/runtimes/win-x64/native/\")"
   ]
  },
  {
   "cell_type": "code",
   "execution_count": null,
   "metadata": {},
   "outputs": [],
   "source": [
    "#r \"packages/NETStandard.Library/build/netstandard2.0/ref/netstandard\"\n",
    "#load \"Paket.Generated.Refs.fsx\""
   ]
  },
  {
   "cell_type": "code",
   "execution_count": null,
   "metadata": {},
   "outputs": [],
   "source": [
    "open Microsoft.ML\n",
    "open Microsoft.ML.Runtime.Api\n",
    "open Microsoft.ML.Transforms\n",
    "open Microsoft.ML.Trainers\n",
    "open System\n",
    "open Microsoft.ML.Data"
   ]
  },
  {
   "cell_type": "code",
   "execution_count": null,
   "metadata": {},
   "outputs": [],
   "source": [
    "Util.Url \"https://github.com/dotnet/machinelearning/blob/master/test/data/wikipedia-detox-250-line-data.tsv\""
   ]
  },
  {
   "cell_type": "code",
   "execution_count": null,
   "metadata": {},
   "outputs": [],
   "source": [
    "let testDataPath = @\"wikipedia-detox-250-line-data.tsv\""
   ]
  },
  {
   "cell_type": "code",
   "execution_count": null,
   "metadata": {},
   "outputs": [],
   "source": [
    "type SentimentData() =\n",
    "    [<Column(ordinal = \"0\", name = \"Label\"); DefaultValue>]\n",
    "    val mutable Sentiment : float32\n",
    "    [<Column(ordinal = \"1\"); DefaultValue>]\n",
    "    val mutable SentimentText : string\n",
    "\n",
    "type SentimentPrediction() =\n",
    "    [<ColumnName \"PredictedLabel\"; DefaultValue>]\n",
    "    val mutable Sentiment : bool"
   ]
  },
  {
   "cell_type": "code",
   "execution_count": null,
   "metadata": {},
   "outputs": [],
   "source": [
    "let pipeline = LearningPipeline()\n",
    "pipeline.Add(TextLoader(testDataPath).CreateFrom<SentimentData>())\n",
    "pipeline.Add(TextFeaturizer(\"Features\", \"SentimentText\"))\n",
    "pipeline.Add(FastTreeBinaryClassifier(NumLeaves = 5, NumTrees = 5, MinDocumentsInLeafs = 2))"
   ]
  },
  {
   "cell_type": "code",
   "execution_count": null,
   "metadata": {},
   "outputs": [],
   "source": [
    "let model = pipeline.Train<SentimentData, SentimentPrediction>()"
   ]
  },
  {
   "cell_type": "code",
   "execution_count": null,
   "metadata": {},
   "outputs": [],
   "source": [
    "//let evaluator = new BinaryClassificationEvaluator();"
   ]
  },
  {
   "cell_type": "code",
   "execution_count": null,
   "metadata": {},
   "outputs": [],
   "source": [
    "let predictions =\n",
    "    [ SentimentData(SentimentText = \"Contoso's 11 is a wonderful experience\")\n",
    "      SentimentData(SentimentText = \"Oooooh thank you Mr. DietLimeCola. Once again, nice job trying to pretend you have some authority over anybody here. You are a wannabe admin, which is even sadder than a real admin\") ]\n",
    "    |> List.map model.Predict\n",
    "\n",
    "predictions\n",
    "|> Seq.iter(fun p -> printfn \"%b\" p.Sentiment)"
   ]
  },
  {
   "cell_type": "code",
   "execution_count": null,
   "metadata": {},
   "outputs": [],
   "source": [
    "let predictions =\n",
    "    [ SentimentData(SentimentText = \"SOMETHING AWFUL IS DEAD DEAD DEAD DEAD DEAD\")]\n",
    "    |> List.map model.Predict\n",
    "\n",
    "predictions\n",
    "|> Seq.iter(fun p -> printfn \"%b\" p.Sentiment)"
   ]
  },
  {
   "cell_type": "code",
   "execution_count": null,
   "metadata": {},
   "outputs": [],
   "source": []
  }
 ],
 "metadata": {
  "kernelspec": {
   "display_name": "F#",
   "language": "fsharp",
   "name": "ifsharp"
  },
  "language": "fsharp",
  "language_info": {
   "codemirror_mode": "",
   "file_extension": ".fs",
   "mimetype": "text/x-fsharp",
   "name": "fsharp",
   "nbconvert_exporter": "",
   "pygments_lexer": "",
   "version": "4.3.1.0"
  }
 },
 "nbformat": 4,
 "nbformat_minor": 2
}
