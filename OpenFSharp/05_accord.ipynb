{
 "cells": [
  {
   "cell_type": "markdown",
   "metadata": {},
   "source": [
    "http://accord-framework.net/"
   ]
  },
  {
   "cell_type": "code",
   "execution_count": null,
   "metadata": {},
   "outputs": [],
   "source": [
    "#load \"Paket.fsx\"\n",
    "Paket.Version([\"Accord.MachineLearning\", \"3.8.0\"])"
   ]
  },
  {
   "cell_type": "code",
   "execution_count": null,
   "metadata": {},
   "outputs": [],
   "source": [
    "#load \"Paket.Generated.Refs.fsx\""
   ]
  },
  {
   "cell_type": "code",
   "execution_count": null,
   "metadata": {},
   "outputs": [],
   "source": [
    "open Accord.MachineLearning\n",
    "open Accord.Statistics.Kernels\n",
    "open Accord.MachineLearning.VectorMachines.Learning\n",
    "open Accord.Math.Optimization.Losses"
   ]
  },
  {
   "cell_type": "code",
   "execution_count": null,
   "metadata": {},
   "outputs": [],
   "source": [
    "let inputs = [|[|0.0;0.0|];[|1.0;0.0|];[|0.0;1.0|];[|1.0;1.0|]|]\n",
    "let outputs = [|0; 1; 1; 0|]\n"
   ]
  },
  {
   "cell_type": "code",
   "execution_count": null,
   "metadata": {},
   "outputs": [],
   "source": [
    "let smo = SequentialMinimalOptimization<Gaussian>()\n",
    "smo.Complexity <- 100.0\n",
    "\n",
    "let svm = smo.Learn(inputs, outputs)"
   ]
  },
  {
   "cell_type": "code",
   "execution_count": null,
   "metadata": {},
   "outputs": [],
   "source": [
    "let prediction = svm.Decide inputs"
   ]
  },
  {
   "cell_type": "code",
   "execution_count": null,
   "metadata": {},
   "outputs": [],
   "source": [
    "prediction"
   ]
  },
  {
   "cell_type": "code",
   "execution_count": null,
   "metadata": {},
   "outputs": [],
   "source": [
    "let error = (new AccuracyLoss(outputs)).Loss(prediction)\n",
    "error"
   ]
  },
  {
   "cell_type": "markdown",
   "metadata": {},
   "source": [
    "Visualisation"
   ]
  },
  {
   "cell_type": "code",
   "execution_count": null,
   "metadata": {},
   "outputs": [],
   "source": [
    "Paket.Version([\"Accord.Controls\", \"3.8.0\"])"
   ]
  },
  {
   "cell_type": "code",
   "execution_count": null,
   "metadata": {},
   "outputs": [],
   "source": [
    "#load \"Paket.Generated.Refs.fsx\""
   ]
  },
  {
   "cell_type": "code",
   "execution_count": null,
   "metadata": {},
   "outputs": [],
   "source": [
    "open Accord.Controls"
   ]
  },
  {
   "cell_type": "markdown",
   "metadata": {},
   "source": [
    "Don't run this on Mono - it will crash your kernel"
   ]
  },
  {
   "cell_type": "code",
   "execution_count": null,
   "metadata": {},
   "outputs": [],
   "source": [
    "ScatterplotBox.Show(\"Training data\", inputs, outputs)"
   ]
  },
  {
   "cell_type": "code",
   "execution_count": null,
   "metadata": {},
   "outputs": [],
   "source": [
    "(*double[][] inputs =\n",
    "{\n",
    "    /* 1.*/ new double[] { 0, 0 },\n",
    "    /* 2.*/ new double[] { 1, 0 }, \n",
    "    /* 3.*/ new double[] { 0, 1 }, \n",
    "    /* 4.*/ new double[] { 1, 1 },\n",
    "};\n",
    "\n",
    "int[] outputs =\n",
    "{ \n",
    "    /* 1. 0 xor 0 = 0: */ 0,\n",
    "    /* 2. 1 xor 0 = 1: */ 1,\n",
    "    /* 3. 0 xor 1 = 1: */ 1,\n",
    "    /* 4. 1 xor 1 = 0: */ 0,\n",
    "};\n",
    "\n",
    "// Create the learning algorithm with the chosen kernel\n",
    "var smo = new SequentialMinimalOptimization<Gaussian>()\n",
    "{\n",
    "    Complexity = 100 // Create a hard-margin SVM \n",
    "};\n",
    "\n",
    "// Use the algorithm to learn the svm\n",
    "var svm = smo.Learn(inputs, outputs);\n",
    "\n",
    "// Compute the machine's answers for the given inputs\n",
    "bool[] prediction = svm.Decide(inputs);\n",
    "\n",
    "// Compute the classification error between the expected \n",
    "// values and the values actually predicted by the machine:\n",
    "double error = new AccuracyLoss(outputs).Loss(prediction);\n",
    "\n",
    "Console.WriteLine(\"Error: \" + error);\n",
    "\n",
    "// Show results on screen \n",
    "ScatterplotBox.Show(\"Training data\", inputs, outputs);\n",
    "ScatterplotBox.Show(\"SVM results\", inputs, prediction.ToZeroOne());\n",
    "\n",
    "Console.ReadKey();*)"
   ]
  },
  {
   "cell_type": "code",
   "execution_count": null,
   "metadata": {},
   "outputs": [],
   "source": [
    "//TODO: plotting by other means"
   ]
  },
  {
   "cell_type": "code",
   "execution_count": null,
   "metadata": {},
   "outputs": [],
   "source": [
    "//http://www.codesuji.com/2016/11/21/Face-Detection-with-FSharp-and-Accord-NET/"
   ]
  },
  {
   "cell_type": "code",
   "execution_count": null,
   "metadata": {},
   "outputs": [],
   "source": [
    "Paket.Version([\n",
    "    \"Accord.Imaging\", \"3.8.0\"\n",
    "    \"Accord.Vision\", \"3.8.0\"\n",
    "])\n",
    "#load \"Paket.Generated.Refs.fsx\""
   ]
  },
  {
   "cell_type": "code",
   "execution_count": null,
   "metadata": {},
   "outputs": [],
   "source": [
    "open System\n",
    "open Accord\n",
    "open Accord.Imaging\n",
    "open Accord.Vision\n",
    "open Accord.Vision.Detection\n",
    "open System.Drawing\n",
    "open System.Drawing.Imaging\n",
    "open System.IO\n",
    "open Accord.MachineLearning"
   ]
  },
  {
   "cell_type": "code",
   "execution_count": null,
   "metadata": {},
   "outputs": [],
   "source": [
    "let cascade = Cascades.FaceHaarCascade()\n",
    "//let cascade = Cascades.NoseHaarCascade()\n",
    "let minSize = 200 \n",
    "let maxSize = 2000"
   ]
  },
  {
   "cell_type": "code",
   "execution_count": null,
   "metadata": {},
   "outputs": [],
   "source": [
    "// Draw bound-box on Bitmap \n",
    "// TopLeft: (x1, y1)\n",
    "// BottomRight: (x2, y2) \n",
    "let drawRectangle (bitmap:Bitmap) (x1:int) (y1:int) (x2:int) (y2:int) (lineWidth:int) (lineColor:Color) = \n",
    "    [x1..x2] \n",
    "    |> List.iter (fun x ->\n",
    "        [0..lineWidth] \n",
    "        |> List.iter (fun i -> \n",
    "            bitmap.SetPixel(x, y1 + i, lineColor) \n",
    "            bitmap.SetPixel(x, y2 - i, lineColor)))\n",
    "\n",
    "    [y1..y2] \n",
    "    |> List.iter (fun y -> \n",
    "        [0..lineWidth] \n",
    "        |> List.iter (fun i -> \n",
    "            bitmap.SetPixel(x1 + i, y, lineColor) \n",
    "            bitmap.SetPixel(x2 - i, y, lineColor)))"
   ]
  },
  {
   "cell_type": "code",
   "execution_count": null,
   "metadata": {},
   "outputs": [],
   "source": [
    "let processImage (cascade:HaarCascade) (minSize:int) (maxSize:int) (bitmap:Bitmap) =\n",
    "\n",
    "    let copyBitmap = new Bitmap(bitmap)\n",
    "\n",
    "    let haar = HaarObjectDetector(cascade, minSize)\n",
    "    haar.MaxSize <- new Size(new Point(new Size(maxSize, maxSize)))\n",
    "    let faceFinder = haar.ProcessFrame(bitmap)\n",
    "\n",
    "    faceFinder\n",
    "    |> Array.iter (fun r -> \n",
    "        drawRectangle copyBitmap r.X r.Y (r.X + r.Width) (r.Y + r.Height) 5 Color.Blue)\n",
    "    \n",
    "    copyBitmap"
   ]
  },
  {
   "cell_type": "code",
   "execution_count": null,
   "metadata": {},
   "outputs": [],
   "source": [
    "//https://media.metrolatam.com/2017/10/27/strangerthings-52760e2d770bb1dad40de003bf087656-1200x600.jpg"
   ]
  },
  {
   "cell_type": "code",
   "execution_count": null,
   "metadata": {},
   "outputs": [],
   "source": [
    "#r \"System.Net.dll\"\n",
    "open System.Net"
   ]
  },
  {
   "cell_type": "code",
   "execution_count": null,
   "metadata": {},
   "outputs": [],
   "source": [
    "let imageUrl = \"https://media.metrolatam.com/2017/10/27/strangerthings-52760e2d770bb1dad40de003bf087656-1200x600.jpg\""
   ]
  },
  {
   "cell_type": "code",
   "execution_count": null,
   "metadata": {},
   "outputs": [],
   "source": [
    "Util.Url imageUrl"
   ]
  },
  {
   "cell_type": "code",
   "execution_count": null,
   "metadata": {},
   "outputs": [],
   "source": [
    "let client = new WebClient()\n",
    "let stream = client.OpenRead(imageUrl)\n",
    "let image = new Bitmap(stream)"
   ]
  },
  {
   "cell_type": "markdown",
   "metadata": {},
   "source": [
    "oppotunity for contributions!"
   ]
  },
  {
   "cell_type": "code",
   "execution_count": null,
   "metadata": {},
   "outputs": [],
   "source": [
    "Util.Image image"
   ]
  },
  {
   "cell_type": "code",
   "execution_count": null,
   "metadata": {},
   "outputs": [],
   "source": [
    "let ImageToBytes (img:Bitmap) =\n",
    "    use stream = new MemoryStream()\n",
    "    img.Save(stream, System.Drawing.Imaging.ImageFormat.Png);\n",
    "    stream.ToArray()"
   ]
  },
  {
   "cell_type": "code",
   "execution_count": null,
   "metadata": {},
   "outputs": [],
   "source": [
    "image |> ImageToBytes |> Util.Image"
   ]
  },
  {
   "cell_type": "code",
   "execution_count": null,
   "metadata": {},
   "outputs": [],
   "source": [
    "let faces1 = processImage cascade 10 800 image"
   ]
  },
  {
   "cell_type": "code",
   "execution_count": null,
   "metadata": {},
   "outputs": [],
   "source": [
    "let faces2 = processImage cascade 80 800 image"
   ]
  },
  {
   "cell_type": "code",
   "execution_count": null,
   "metadata": {},
   "outputs": [],
   "source": [
    "faces1 |> ImageToBytes |> Util.Image"
   ]
  },
  {
   "cell_type": "code",
   "execution_count": null,
   "metadata": {},
   "outputs": [],
   "source": [
    "faces2 |> ImageToBytes |> Util.Image"
   ]
  },
  {
   "cell_type": "code",
   "execution_count": null,
   "metadata": {},
   "outputs": [],
   "source": [
    "let faces3 = processImage cascade 10 1000 image"
   ]
  },
  {
   "cell_type": "code",
   "execution_count": null,
   "metadata": {},
   "outputs": [],
   "source": [
    "//https://azure.microsoft.com/en-gb/services/cognitive-services/face/"
   ]
  }
 ],
 "metadata": {
  "kernelspec": {
   "display_name": "F#",
   "language": "fsharp",
   "name": "ifsharp"
  },
  "language": "fsharp",
  "language_info": {
   "codemirror_mode": "",
   "file_extension": ".fs",
   "mimetype": "text/x-fsharp",
   "name": "fsharp",
   "nbconvert_exporter": "",
   "pygments_lexer": "",
   "version": "4.3.1.0"
  }
 },
 "nbformat": 4,
 "nbformat_minor": 2
}
