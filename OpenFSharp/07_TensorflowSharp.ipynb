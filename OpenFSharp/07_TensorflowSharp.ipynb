{
 "cells": [
  {
   "cell_type": "code",
   "execution_count": 1,
   "metadata": {},
   "outputs": [],
   "source": [
    "#load \"Paket.fsx\""
   ]
  },
  {
   "cell_type": "code",
   "execution_count": 2,
   "metadata": {},
   "outputs": [],
   "source": [
    "Paket.Version[(\"TensorFlowSharp\", \"1.9.0\")]"
   ]
  },
  {
   "cell_type": "markdown",
   "metadata": {},
   "source": [
    "We need to add paths to the native dependencies, should we make an F# notebook helper? or in Paket request https://github.com/fsprojects/Paket/issues/3222"
   ]
  },
  {
   "cell_type": "code",
   "execution_count": 3,
   "metadata": {},
   "outputs": [],
   "source": [
    "//Patch location for native dependencies\n",
    "System.Environment.SetEnvironmentVariable(\"Path\", \n",
    "    System.Environment.GetEnvironmentVariable(\"Path\") + \";\" + Paket.RootPath + @\"/packages/TensorFlowSharp/runtimes/win7-x64/native\")"
   ]
  },
  {
   "cell_type": "code",
   "execution_count": 4,
   "metadata": {},
   "outputs": [],
   "source": [
    "//Environment.SetEnvironmentVariable(\"LD_LIBRARY_PATH\", Environment.GetEnvironmentVariable(\"LD_LIBRARY_PATH\") + \":\" + /packages/TensorFlowSharp/runtimes/linux/native/)"
   ]
  },
  {
   "cell_type": "code",
   "execution_count": 5,
   "metadata": {},
   "outputs": [],
   "source": [
    "#load \"Paket.Generated.Refs.fsx\""
   ]
  },
  {
   "cell_type": "code",
   "execution_count": 6,
   "metadata": {},
   "outputs": [
    {
     "data": {
      "text/plain": [
       "a=2 b=3\r\n",
       "a+b=5\r\n",
       "a*b=6\r\n"
      ]
     },
     "metadata": {},
     "output_type": "display_data"
    }
   ],
   "source": [
    "//Directly adapted from: https://github.com/migueldeicaza/TensorFlowSharp\n",
    "//#r @\"packages\\TensorFlowSharp\\lib\\net471\\TensorFlowSharp.dll\"\n",
    "\n",
    "open System\n",
    "open System.IO\n",
    "open TensorFlow\n",
    "\n",
    "module AddTwoNumbers = \n",
    "    let session = new TFSession()\n",
    "    let graph = session.Graph\n",
    "\n",
    "    let a = graph.Const(new TFTensor(2))\n",
    "    let b = graph.Const(new TFTensor(3))\n",
    "    Console.WriteLine(\"a=2 b=3\")\n",
    "\n",
    "    // Add two constants\n",
    "    let addingResults = session.GetRunner().Run(graph.Add(a, b))\n",
    "    let addingResultValue = addingResults.GetValue()\n",
    "    Console.WriteLine(\"a+b={0}\", addingResultValue)\n",
    "\n",
    "    // Multiply two constants\n",
    "    let multiplyResults = session.GetRunner().Run(graph.Mul(a, b))\n",
    "    let multiplyResultValue = multiplyResults.GetValue()\n",
    "    Console.WriteLine(\"a*b={0}\", multiplyResultValue)"
   ]
  },
  {
   "cell_type": "markdown",
   "metadata": {
    "collapsed": true
   },
   "source": [
    "https://github.com/migueldeicaza/TensorFlowSharp/tree/master/Examples/ExampleObjectDetection"
   ]
  },
  {
   "cell_type": "code",
   "execution_count": null,
   "metadata": {},
   "outputs": [],
   "source": []
  }
 ],
 "metadata": {
  "kernelspec": {
   "display_name": "F#",
   "language": "fsharp",
   "name": "ifsharp"
  },
  "language": "fsharp",
  "language_info": {
   "codemirror_mode": "",
   "file_extension": ".fs",
   "mimetype": "text/x-fsharp",
   "name": "fsharp",
   "nbconvert_exporter": "",
   "pygments_lexer": "",
   "version": "4.3.1.0"
  }
 },
 "nbformat": 4,
 "nbformat_minor": 2
}
