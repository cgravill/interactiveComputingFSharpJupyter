{
 "cells": [
  {
   "cell_type": "markdown",
   "metadata": {},
   "source": [
    "http://fsharp.github.io/FSharp.Data/library/XmlProvider.html"
   ]
  },
  {
   "cell_type": "code",
   "execution_count": null,
   "metadata": {},
   "outputs": [],
   "source": [
    "\n",
    "#load \"Paket.fsx\"\n",
    "Paket.Version [\n",
    "    \"FSharp.Data\", \"2.4.6\"\n",
    "    \"XPlot.Plotly\", \"1.5.0\" ]"
   ]
  },
  {
   "cell_type": "code",
   "execution_count": null,
   "metadata": {},
   "outputs": [],
   "source": [
    "#load \"Paket.Generated.Refs.fsx\"\n",
    "#r \"System.Xml.Linq.dll\"\n",
    "#load \"XPlot.Plotly.fsx\"\n",
    "open FSharp.Data\n",
    "open XPlot.Plotly"
   ]
  },
  {
   "cell_type": "code",
   "execution_count": null,
   "metadata": {},
   "outputs": [],
   "source": []
  },
  {
   "cell_type": "code",
   "execution_count": null,
   "metadata": {},
   "outputs": [],
   "source": [
    "type WB = XmlProvider<\"http://api.worldbank.org/v2/countries/all/indicators/AG.LND.PRCP.MM?end=2014&start=2014\">\n",
    "let wb = WB.GetSample()\n",
    "wb"
   ]
  },
  {
   "cell_type": "markdown",
   "metadata": {},
   "source": [
    "\"http://climatedataapi.worldbank.org/climateweb/rest/v1/country/\"\n",
    "\n",
    "\"http://climatedataapi.worldbank.org/climateweb/rest/v1/country/cru/tas/year/USA.xml\"\n",
    "\"http://climatedataapi.worldbank.org/climateweb/rest/v1/country/cru/tas/month/USA.xml\""
   ]
  },
  {
   "cell_type": "code",
   "execution_count": null,
   "metadata": {},
   "outputs": [],
   "source": [
    "let data = WorldBankData.GetDataContext()"
   ]
  },
  {
   "cell_type": "code",
   "execution_count": null,
   "metadata": {},
   "outputs": [],
   "source": [
    "\n",
    "\n",
    "let x = [for country in data.Countries -> country.Indicators.``Access to electricity (% of population)``]"
   ]
  },
  {
   "cell_type": "code",
   "execution_count": null,
   "metadata": {},
   "outputs": [],
   "source": [
    "x.[0].Values"
   ]
  },
  {
   "cell_type": "code",
   "execution_count": null,
   "metadata": {},
   "outputs": [],
   "source": [
    "data.Countries.``United States``.Indicators.``Average precipitation in depth (mm per year)``.Values"
   ]
  },
  {
   "cell_type": "code",
   "execution_count": null,
   "metadata": {},
   "outputs": [],
   "source": [
    "[ for d in wb.Datas -> d.Country.Value, d.Value ]\n",
    "|> Util.Table"
   ]
  }
 ],
 "metadata": {
  "kernelspec": {
   "display_name": "F#",
   "language": "fsharp",
   "name": "ifsharp"
  },
  "language": "fsharp",
  "language_info": {
   "codemirror_mode": "",
   "file_extension": ".fs",
   "mimetype": "text/x-fsharp",
   "name": "fsharp",
   "nbconvert_exporter": "",
   "pygments_lexer": "",
   "version": "4.3.1.0"
  }
 },
 "nbformat": 4,
 "nbformat_minor": 2
}
